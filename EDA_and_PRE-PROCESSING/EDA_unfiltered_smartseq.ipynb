{
 "cells": [
  {
   "cell_type": "markdown",
   "metadata": {},
   "source": [
    "## Introduction"
   ]
  },
  {
   "cell_type": "markdown",
   "metadata": {},
   "source": [
    "In our analysis, we aim to critically evaluate and predict with a ML classifier whether a given cell sample, for the two cell lines of MCF7 and HCC1806 obtained with Dropseq and Smartseq sequencing methods, is either hypoxic or normoxic. To achieve this goal, we extensively analyse the distribution of the genes based on the cell condition (hypoxia vs normoxia) in the Exploratory Data analysis. We then continue to investigate the structure of the clusters corresponding to the hypoxia and normoxia classes throughout the unsupervised analysis trying to evaluate how effectively the two cell conditions can be separated, using different dimensionality reduction techniques (for both visualisation and performance improvements). In the meanwhile, we try to analyse the dataset for the presence of outlier samples and other noisy observations to understand if there are naturally only 2 cell conditions that can be derived from the data. With these findings, we then move on to select the most expressive and useful genes in the dataset, Therefore, we train a wide range of different ML classifiers models, not knowing a priori the best one, and finally combining their prediction using Voting and Stacking ensemble classifiers. \n",
    "\n",
    "In this report, we include only one specimen of notebook for each part of the analysis since we have applied similar notebooks to the different datasets and all the notebooks can be found on the provided drive/github repository."
   ]
  },
  {
   "cell_type": "markdown",
   "metadata": {},
   "source": [
    "The structure of the report is as follows:\n",
    "\n",
    "- Exploratory Data analysis (focused on Smartseq unfiltered data)\n",
    "\n",
    "- Outlier/noise detection with Isolation Forest (focused on Dropseq data)\n",
    "\n",
    "- Dimensionality reduction methods and parameter optimization (focused on Smartseq data)\n",
    "\n",
    "- Clustering with DBSCAN and K-means (focused on Smartseq data)\n",
    "\n",
    "- Supervised analysis of HCC cell-line for both Dropseq and Smartseq data, using different classifiers including KNN, SVM, Random forest, XGboost and MLP"
   ]
  },
  {
   "cell_type": "markdown",
   "metadata": {},
   "source": [
    "# Exploratory Data analysis"
   ]
  },
  {
   "cell_type": "code",
   "execution_count": null,
   "metadata": {},
   "outputs": [],
   "source": [
    "# Project - validation data to be given at the end of the course & data not to be shared\n",
    "import pandas as pd\n",
    "import numpy as np\n",
    "import matplotlib.pyplot as plt\n",
    "import seaborn as sns\n",
    "from sklearn.preprocessing import StandardScaler\n",
    "from scipy.spatial.distance import pdist, squareform\n",
    "from sklearn.preprocessing import StandardScaler\n",
    "from sklearn.decomposition import PCA\n",
    "from sklearn.ensemble import IsolationForest\n",
    "from sklearn.inspection import DecisionBoundaryDisplay"
   ]
  },
  {
   "cell_type": "markdown",
   "metadata": {},
   "source": [
    "Analyse metadata to better understnad contents of data labels and general info for each sample.\n",
    "\n",
    "For instance, one cell is kept under experiment conditions for 72 hours and the other instead only for 24 because of different reaction times of the two cells "
   ]
  },
  {
   "cell_type": "code",
   "execution_count": null,
   "metadata": {},
   "outputs": [],
   "source": [
    "#retrieving metadata, cheifly sample labels \n",
    "df_meta = pd.read_csv(\"SmartSeq/MCF7_SmartS_MetaData.tsv\",delimiter=\"\\t\",engine='python',index_col=0)\n",
    "df_meta.iloc[10:20,:]"
   ]
  },
  {
   "cell_type": "code",
   "execution_count": null,
   "metadata": {},
   "outputs": [],
   "source": [
    "#retrieving metadata, cheifly sample labels \n",
    "df_meta = pd.read_csv(\"SmartSeq/HCC1806_SmartS_MetaData.tsv\",delimiter=\"\\t\",engine='python',index_col=0)\n",
    "df_meta.iloc[20:30,:]"
   ]
  },
  {
   "cell_type": "markdown",
   "metadata": {},
   "source": [
    "## EDA on Unfiltered SmartSeq HCC186 and MCF7 data"
   ]
  },
  {
   "cell_type": "code",
   "execution_count": null,
   "metadata": {},
   "outputs": [],
   "source": [
    "df_MCF7_unfiltered = pd.read_csv(\"SmartSeq/MCF7_SmartS_Unfiltered_Data.txt\",delimiter=\"\\ \",engine='python',index_col=0).T\n",
    "print(\"Dataframe dimensions:\", np.shape(df_MCF7_unfiltered))\n",
    "df_MCF7_unfiltered.head()"
   ]
  },
  {
   "cell_type": "code",
   "execution_count": null,
   "metadata": {},
   "outputs": [],
   "source": [
    "df_MCF7_unfiltered.info()\n",
    "df_MCF7_unfiltered.describe()"
   ]
  },
  {
   "cell_type": "code",
   "execution_count": null,
   "metadata": {},
   "outputs": [],
   "source": [
    "df_HCC_unfiltered = pd.read_csv(\"SmartSeq/HCC1806_SmartS_Unfiltered_Data.txt\",delimiter=\"\\ \",engine='python',index_col=0).T\n",
    "print(\"Dataframe dimensions:\", np.shape(df_HCC_unfiltered))\n",
    "df_HCC_unfiltered.head()"
   ]
  },
  {
   "cell_type": "code",
   "execution_count": null,
   "metadata": {},
   "outputs": [],
   "source": [
    "df_HCC_unfiltered.info()\n",
    "df_HCC_unfiltered.describe()"
   ]
  },
  {
   "cell_type": "markdown",
   "metadata": {},
   "source": [
    "In the next cell, we try to understand how many genes are in common between the two cell lines in order to see if the same classifier could be trained on both datasets."
   ]
  },
  {
   "cell_type": "code",
   "execution_count": null,
   "metadata": {},
   "outputs": [],
   "source": [
    "# Get sets of gene names (column names)\n",
    "genes_1 = set(df_MCF7_unfiltered.columns)\n",
    "genes_2 = set(df_HCC_unfiltered.columns)\n",
    "\n",
    "# Genes only in grouped_sums_1\n",
    "unique_to_1 = genes_1 - genes_2\n",
    "\n",
    "# Genes only in grouped_sums_2\n",
    "unique_to_2 = genes_2 - genes_1\n",
    "\n",
    "# Union of all unique genes (not shared)\n",
    "not_in_common = unique_to_1.union(unique_to_2)\n",
    "\n",
    "# Output\n",
    "print(f\"Genes only in MCF7 dataset: {len(unique_to_1)}\")\n",
    "print(f\"Genes only in HCC dataset: {len(unique_to_2)}\")\n",
    "print(f\"Total genes not in common: {len(not_in_common)}\")\n",
    "print(f\"{not_in_common}\")"
   ]
  },
  {
   "cell_type": "markdown",
   "metadata": {},
   "source": [
    "### MISSING VALUES, DUPLICATES and SPARSITY ANALYSIS "
   ]
  },
  {
   "cell_type": "code",
   "execution_count": null,
   "metadata": {},
   "outputs": [],
   "source": [
    "# checking for duplicates and missing values\n",
    "# Percentage of missing values for the whole dataset\n",
    "print(\"MCF7 dataset\")\n",
    "total_cells = (df_MCF7_unfiltered.shape[0] * df_MCF7_unfiltered.shape[1])\n",
    "total_missing = df_MCF7_unfiltered.isnull().sum().sum()\n",
    "missing_percentage_total = (total_missing / total_cells) * 100\n",
    "print(f\"Total missing values in MCF7 dataset: {missing_percentage_total:.2f}%\")\n",
    "\n",
    "# Missing values per column (only where missing values exist)\n",
    "missing_per_column = df_MCF7_unfiltered.isnull().sum()\n",
    "\n",
    "print(\"\\nColumns with missing values (percentage):\")\n",
    "print(missing_per_column)\n",
    "\n",
    "print(f\"count of duplicates: {df_MCF7_unfiltered.duplicated().sum()}\")\n",
    "# Remove if needed\n",
    "df = df_MCF7_unfiltered.drop_duplicates()\n",
    "\n",
    "print(\"\\nHCC dataset\")\n",
    "# checking for duplicates and missing values\n",
    "# Percentage of missing values for the whole dataset\n",
    "total_cells = (df_HCC_unfiltered.shape[0] * df_HCC_unfiltered.shape[1])\n",
    "total_missing = df_HCC_unfiltered.isnull().sum().sum()\n",
    "missing_percentage_total = (total_missing / total_cells) * 100\n",
    "print(f\"Total missing values in HCC dataset: {missing_percentage_total:.2f}%\")\n",
    "\n",
    "# Missing values per column (only where missing values exist)\n",
    "missing_per_column = df_HCC_unfiltered.isnull().sum()\n",
    "\n",
    "print(\"\\nColumns with missing values (percentage):\")\n",
    "print(missing_per_column)\n",
    "\n",
    "print(f\"count of duplicates: {df_HCC_unfiltered.duplicated().sum()}\")\n",
    "# Remove if needed\n",
    "df = df_HCC_unfiltered.drop_duplicates()"
   ]
  },
  {
   "cell_type": "markdown",
   "metadata": {},
   "source": [
    "The dataset doesn't present any missing values and so it can be directly analysed although we are unsure of whether some missing entries were entered as 0, as could be suggested by the great majority of the latter "
   ]
  },
  {
   "cell_type": "code",
   "execution_count": null,
   "metadata": {},
   "outputs": [],
   "source": [
    "print(\"MCF7 dataset\")\n",
    "# analyse the transposed dataset with samples as columns and genes as rows\n",
    "print(f\"count of duplicates: {df_MCF7_unfiltered.T.duplicated().sum()}\")\n",
    "\n",
    "# Find duplicated rows\n",
    "duplicated_rows = df_MCF7_unfiltered.T[df_MCF7_unfiltered.T.duplicated(keep=False)]\n",
    "\n",
    "# Print the sample names (index labels) of duplicated rows\n",
    "if not duplicated_rows.empty:\n",
    "    print(\"Duplicated Columns of Genes found:\")\n",
    "    print(duplicated_rows.index.tolist())\n",
    "else:\n",
    "    print(\"No duplicated samples found.\")\n",
    "\n",
    "print(\"\\n HCC dataset\")\n",
    "# analyse the transposed dataset with samples as columns and genes as rows\n",
    "print(f\"count of duplicates: {df_HCC_unfiltered.T.duplicated().sum()}\")\n",
    "\n",
    "# Find duplicated rows\n",
    "duplicated_rows2 = df_HCC_unfiltered.T[df_HCC_unfiltered.T.duplicated(keep=False)]\n",
    "\n",
    "# Print the sample names (index labels) of duplicated rows\n",
    "if not duplicated_rows2.empty:\n",
    "    print(\"Duplicated Columns of Genes found:\")\n",
    "    print(duplicated_rows2.index.tolist())\n",
    "else:\n",
    "    print(\"No duplicated samples found.\")"
   ]
  },
  {
   "cell_type": "markdown",
   "metadata": {},
   "source": [
    "Few of the genes for both datasets present duplicate entries, thus increasing dataset dimensionality without adding any additional information. They are not removed for now because theese genes are very sparse, not presenting a mjor issues for EDA, and since the dataset shape is very unbalanced (very few samples with abundantly many genes), it is possible if not likely that the entries for some genes repeat."
   ]
  },
  {
   "cell_type": "markdown",
   "metadata": {},
   "source": [
    "### SPARSITY and GENE EXPRESSION by genes' expression distribution"
   ]
  },
  {
   "cell_type": "markdown",
   "metadata": {},
   "source": [
    "In what follows, we analyse the dataset sparsity defined as columns/genes with a distribution that is extremely skewed towards zero, which is measured by the mean of the gene count minus the standard deviation of the gene count."
   ]
  },
  {
   "cell_type": "code",
   "execution_count": null,
   "metadata": {},
   "outputs": [],
   "source": [
    "# understanding the sparsity and distribution of the dataset \n",
    "non_sparse_genes = [i for i in df_MCF7_unfiltered.columns if df_MCF7_unfiltered[i].mean() - df_MCF7_unfiltered[i].std() >= 1] # non-sparse genes have mean greater than 1 considering also std\n",
    "non_sparse_genes = sorted(non_sparse_genes, key = lambda x: df_MCF7_unfiltered[x].mean(), reverse=True) # sort according to sparsity and use then for visual\n",
    "print(f\"Number of non-sparse genes in MCF7 dataset: {len(non_sparse_genes)} or {len(non_sparse_genes)/len(df_MCF7_unfiltered.columns):.4}% of all genes\")\n",
    "\n",
    "# understanding the sparsity and distribution of the dataset \n",
    "non_sparse_genes2 = [i for i in df_HCC_unfiltered.columns if df_HCC_unfiltered[i].mean() - df_HCC_unfiltered[i].std() >= 1] # non-sparse genes have mean greater than 1 considering also std\n",
    "non_sparse_genes2 = sorted(non_sparse_genes2, key = lambda x: df_HCC_unfiltered[x].mean(), reverse=True) # sort according to sparsity and use then for visual\n",
    "print(f\"Number of non-sparse genes in HCC dataset: {len(non_sparse_genes2)} or {len(non_sparse_genes2)/len(df_HCC_unfiltered.columns):.4}% of all genes\")"
   ]
  },
  {
   "cell_type": "code",
   "execution_count": null,
   "metadata": {},
   "outputs": [],
   "source": [
    "n = 10\n",
    "print(f\"TOP non-sparse genes in MCF7 dataset: {non_sparse_genes[:n]}\")\n",
    "print(f\"TOP non-sparse genes in HCC dataset: {non_sparse_genes2[:n]}\")"
   ]
  },
  {
   "cell_type": "markdown",
   "metadata": {},
   "source": [
    "We now move to analyse the distribution of the genes that are the least sparse according to the above definition by using histograms and violin plots"
   ]
  },
  {
   "cell_type": "code",
   "execution_count": null,
   "metadata": {},
   "outputs": [],
   "source": [
    "fig, ax = plt.subplots(ncols = int(n/2), nrows = 2, figsize = (30,15))\n",
    "\n",
    "for i, col in enumerate(non_sparse_genes[:n]):\n",
    "    # Plot histogram for df_MCF7_unfiltered\n",
    "    ax.flat[i].hist(df_MCF7_unfiltered[col], bins=30, alpha=0.5, edgecolor='black', density=True, label='MCF7')\n",
    "    # Plot histogram for df2\n",
    "    ax.flat[i].hist(df_HCC_unfiltered[col], bins=30, alpha=0.5, edgecolor='black', density=True, label='HCC')\n",
    "    \n",
    "    # KDE plots for both\n",
    "    sns.kdeplot(df_MCF7_unfiltered[col], ax=ax.flat[i], bw_adjust=1, color='blue', label='MCF7 KDE')\n",
    "    sns.kdeplot(df_HCC_unfiltered[col], ax=ax.flat[i], bw_adjust=1, color='red', label='HCC KDE')\n",
    "\n",
    "    ax.flat[i].set_xlabel('')\n",
    "    ax.flat[i].set_title(f\"{col}\\nMCF7 μ: {df_MCF7_unfiltered[col].mean():.0f}, HCC μ: {df_HCC_unfiltered[col].mean():.0f}\")\n",
    "    ax.flat[i].legend()\n",
    "\n",
    "plt.suptitle(\"distribution of top 10 non-sparse genes in MCF7 dataset and comparison with HCC dataset\", fontsize = 24)\n",
    "plt.tight_layout(rect=[0, 0.03, 1, 0.97]) \n",
    "plt.show()"
   ]
  },
  {
   "cell_type": "code",
   "execution_count": null,
   "metadata": {},
   "outputs": [],
   "source": [
    "fig, ax = plt.subplots(nrows=2, ncols=5, figsize=(30, 15))\n",
    "\n",
    "for i, col in enumerate(non_sparse_genes[:n]):\n",
    "    combined_df = pd.DataFrame({\n",
    "        'value': pd.concat([df_MCF7_unfiltered[col], df_HCC_unfiltered[col]]),\n",
    "        'dataset': ['MCF7'] * len(df_MCF7_unfiltered) + ['HCC'] * len(df_HCC_unfiltered)\n",
    "    })\n",
    "    \n",
    "    # Violin plot\n",
    "    sns.violinplot( data=combined_df, x='dataset', y='value', hue='dataset',  palette=['lightblue', 'lightgreen'],  ax=ax.flat[i],  inner=None,  linewidth=1,  legend=False)\n",
    "    # Boxplot overlay\n",
    "    sns.boxplot(    data=combined_df, x='dataset',  y='value',  hue='dataset', palette=['lightblue', 'lightgreen'], ax=ax.flat[i],   width=0.2, showcaps=True, fliersize=2, legend=False)\n",
    "\n",
    "    # Remove default labels\n",
    "    ax.flat[i].set_xlabel('')\n",
    "    ax.flat[i].set_ylabel('')\n",
    "    \n",
    "    # Custom title with means\n",
    "    mcf7_mean = df_MCF7_unfiltered[col].mean()\n",
    "    df2_mean = df_HCC_unfiltered[col].mean()\n",
    "    ax.flat[i].set_title(f\"{col}\\nMCF7 μ: {mcf7_mean:.0f}, HCC μ: {df2_mean:.0f}\")\n",
    "\n",
    "\n",
    "plt.suptitle(\"distribution of top 20 non-sparse genes in MCF7 dataset and comparison with HCC dataset\", fontsize = 16)\n",
    "plt.tight_layout(rect=[0, 0.03, 1, 0.97]) \n",
    "plt.show()"
   ]
  },
  {
   "cell_type": "code",
   "execution_count": null,
   "metadata": {},
   "outputs": [],
   "source": [
    "fig, ax = plt.subplots(ncols = int(n/2), nrows = 2, figsize = (30,15))\n",
    "\n",
    "for i, col in enumerate(non_sparse_genes2[:n]):\n",
    "    # Plot histogram for df_MCF7_unfiltered\n",
    "    ax.flat[i].hist(df_MCF7_unfiltered[col], bins=30, alpha=0.5, edgecolor='black', density=True, label='MCF7')\n",
    "    # Plot histogram for df2\n",
    "    ax.flat[i].hist(df_HCC_unfiltered[col], bins=30, alpha=0.5, edgecolor='black', density=True, label='HCC')\n",
    "    \n",
    "    # KDE plots for both\n",
    "    sns.kdeplot(df_MCF7_unfiltered[col], ax=ax.flat[i], bw_adjust=1, color='blue', label='MCF7 KDE')\n",
    "    sns.kdeplot(df_HCC_unfiltered[col], ax=ax.flat[i], bw_adjust=1, color='red', label='HCC KDE')\n",
    "\n",
    "    ax.flat[i].set_xlabel('')\n",
    "    ax.flat[i].set_title(f\"{col}, MCF7 μ: {df_MCF7_unfiltered[col].mean():.0f}, HCC μ: {df_HCC_unfiltered[col].mean():.0f}\")\n",
    "    ax.flat[i].legend()\n",
    "\n",
    "plt.suptitle(\"distribution of top 10 non-sparse genes in HCC dataset and comparison with MCF7 dataset\", fontsize = 24)\n",
    "plt.tight_layout(rect=[0, 0.03, 1, 0.97]) \n",
    "plt.show()"
   ]
  },
  {
   "cell_type": "code",
   "execution_count": null,
   "metadata": {},
   "outputs": [],
   "source": [
    "fig, ax = plt.subplots(nrows=2, ncols=5, figsize=(30, 15))\n",
    "\n",
    "for i, col in enumerate(non_sparse_genes2[:n]):\n",
    "    combined_df = pd.DataFrame({\n",
    "        'value': pd.concat([df_MCF7_unfiltered[col], df_HCC_unfiltered[col]]),\n",
    "        'dataset': ['MCF7'] * len(df_MCF7_unfiltered) + ['HCC'] * len(df_HCC_unfiltered)\n",
    "    })\n",
    "    \n",
    "    # Violin plot\n",
    "    sns.violinplot( data=combined_df, x='dataset', y='value', hue='dataset',  palette=['lightblue', 'lightgreen'],  ax=ax.flat[i],  inner=None,  linewidth=1,  legend=False)\n",
    "    # Boxplot overlay\n",
    "    sns.boxplot(    data=combined_df, x='dataset',  y='value',  hue='dataset', palette=['lightblue', 'lightgreen'], ax=ax.flat[i],   width=0.2, showcaps=True, fliersize=2, legend=False)\n",
    "\n",
    "    # Remove default labels\n",
    "    ax.flat[i].set_xlabel('')\n",
    "    ax.flat[i].set_ylabel('')\n",
    "    \n",
    "    # Custom title with means\n",
    "    mcf7_mean = df_MCF7_unfiltered[col].mean()\n",
    "    df2_mean = df_HCC_unfiltered[col].mean()\n",
    "    ax.flat[i].set_title(f\"{col}\\nMCF7 μ: {mcf7_mean:.0f}, HCC μ: {df2_mean:.0f}\")\n",
    "\n",
    "\n",
    "plt.suptitle(\"distribution of top 20 non-sparse genes in HCC dataset and comparison with MCF7 dataset\", fontsize = 16)\n",
    "plt.tight_layout(rect=[0, 0.03, 1, 0.97]) \n",
    "plt.show()"
   ]
  },
  {
   "cell_type": "markdown",
   "metadata": {},
   "source": [
    "### SPARSITY by density of zeroes in datasets"
   ]
  },
  {
   "cell_type": "markdown",
   "metadata": {},
   "source": [
    "We now consider a different and more trivial definition of sparsity, namely the count of zeros in the dataset columns/genes, looking at how it compares with previous results and how the least sparse genes are distributed also in terms of whether they are expressed more for hypoxic or normoxic cells"
   ]
  },
  {
   "cell_type": "markdown",
   "metadata": {},
   "source": [
    "In the following heatmap (for randomly selected rows and columns) the zeroes are represented as blue squares and from the colour, it can be qualitateively inferred that sparsity is a rather big issues in the dataset"
   ]
  },
  {
   "cell_type": "code",
   "execution_count": null,
   "metadata": {},
   "outputs": [],
   "source": [
    "# Set random seed for reproducibility\n",
    "np.random.seed(42)\n",
    "\n",
    "# Choose a random subset of columns (e.g., 10 columns)\n",
    "num_cols = 500\n",
    "random_cols_1 = np.random.choice(df_MCF7_unfiltered.columns, size=num_cols, replace=False)\n",
    "random_cols_2 = np.random.choice(df_HCC_unfiltered.columns, size=num_cols, replace=False)\n",
    "\n",
    "# Filter both datasets with the same random columns\n",
    "df1_sampled = df_MCF7_unfiltered[random_cols_1]\n",
    "df2_sampled = df_HCC_unfiltered[random_cols_2]\n",
    "\n",
    "# Compute zero masks\n",
    "zero_mask1 = df1_sampled == 0\n",
    "zero_mask2 = df2_sampled == 0\n",
    "\n",
    "# Print sparsity index\n",
    "sparsity1 = zero_mask1.sum().sum() / (df1_sampled.shape[0] * df1_sampled.shape[1])\n",
    "sparsity2 = zero_mask2.sum().sum() / (df2_sampled.shape[0] * df2_sampled.shape[1])\n",
    "\n",
    "print(f\"Dataset MCF7 Sparsity Index: {sparsity1:.4f}\")\n",
    "print(f\"Dataset HCC Sparsity Index: {sparsity2:.4f}\")\n",
    "\n",
    "# Plotting\n",
    "plt.figure(figsize=(14, 8))\n",
    "\n",
    "# Heatmap for Dataset 1\n",
    "plt.subplot(2,1, 1)\n",
    "sns.heatmap(zero_mask1, cbar=False, cmap=sns.color_palette([\"white\", \"blue\"]))\n",
    "plt.title('Zero Values Heatmap - MFC7 Dataset')\n",
    "plt.xlabel(\"Genes\")\n",
    "plt.ylabel(\"Samples\")\n",
    "plt.xticks([], [])\n",
    "plt.yticks([], [])\n",
    "\n",
    "# Heatmap for Dataset 2\n",
    "plt.subplot(2, 1, 2)\n",
    "sns.heatmap(zero_mask2, cbar=False, cmap=sns.color_palette([\"white\", \"blue\"]))\n",
    "plt.title('Zero Values Heatmap - HCC Dataset')\n",
    "plt.xlabel(\"Genes\")\n",
    "plt.ylabel(\"Samples\")\n",
    "plt.xticks([], [])\n",
    "plt.yticks([], [])\n",
    "\n",
    "plt.tight_layout()\n",
    "plt.show()"
   ]
  },
  {
   "cell_type": "markdown",
   "metadata": {},
   "source": [
    "In the following plot, we plot a sparsity index, defined as the percentage of zeros in a given column, against the count of how many times that any value of such index is attained. It can be clearly seen that there are two spikes for both datasets, around 0% and 1%, so that some genes are almost identically zero while others are very dense, rendering the datasets very suitable to feature selection"
   ]
  },
  {
   "cell_type": "code",
   "execution_count": null,
   "metadata": {},
   "outputs": [],
   "source": [
    "#graph of sparsity index (number of zeroes) against coutn of such index in the genes\n",
    "# Calculate sparsity index for each gene (column) in both datasets\n",
    "sparsity1 = (df_MCF7_unfiltered == 0).sum(axis=0) / df_MCF7_unfiltered.shape[0]\n",
    "sparsity2 = (df_HCC_unfiltered == 0).sum(axis=0) / df_HCC_unfiltered.shape[0]\n",
    "\n",
    "# Plot overlayed histograms\n",
    "plt.figure(figsize=(10, 8))\n",
    "\n",
    "plt.hist(sparsity1, bins=80, range=(0, 1), edgecolor='black', alpha=0.6, label='MCF7 Dataset', color='blue')\n",
    "plt.hist(sparsity2, bins=80, range=(0, 1), edgecolor='black', alpha=0.6, label='HCC Dataset', color='lightgreen')\n",
    "\n",
    "plt.title(\"Overlayed Histogram of Gene Sparsity Indices\")\n",
    "plt.xlabel(\"Sparsity Index (Fraction of Zero Counts)\")\n",
    "plt.ylabel(\"Number of Genes\")\n",
    "plt.legend()\n",
    "plt.grid(True, linestyle='--', alpha=0.5)\n",
    "plt.tight_layout()\n",
    "plt.show()"
   ]
  },
  {
   "cell_type": "markdown",
   "metadata": {},
   "source": [
    "The unfiltered dataset is very sparse so that it makes sense to use dimensionality reduction to preprocess the data before unsupervised or supervised analysis since the columns corresponding to some genes are almost indetically zero and so it is only natural to conjecture that a low-dimensional embedding of the whole datasets exists and is a good presentation of the whole. "
   ]
  },
  {
   "cell_type": "markdown",
   "metadata": {},
   "source": [
    "## Genes expressions"
   ]
  },
  {
   "cell_type": "code",
   "execution_count": null,
   "metadata": {},
   "outputs": [],
   "source": [
    "# Calculate total counts per cell (row) for both datasets\n",
    "df1_total_counts = df_MCF7_unfiltered.sum(axis=1)\n",
    "df2_total_counts = df_HCC_unfiltered.sum(axis=1)\n",
    "\n",
    "# Plot overlayed histograms with KDE\n",
    "plt.figure(figsize=(10, 6))\n",
    "\n",
    "sns.histplot(df1_total_counts, bins=70, kde=True, color='steelblue', label='MCF7 Dataset', alpha=0.6)\n",
    "sns.histplot(df2_total_counts, bins=70, kde=True, color='darkorange', label='HCC Dataset', alpha=0.6)\n",
    "\n",
    "plt.title(\"Overlayed Histogram of Total Gene Counts per Cell\")\n",
    "plt.xlabel(\"Total Counts per Cell\")\n",
    "plt.ylabel(\"Number of Samples\")\n",
    "plt.legend()\n",
    "plt.grid(True, linestyle='--', alpha=0.5)\n",
    "plt.tight_layout()\n",
    "plt.show()"
   ]
  },
  {
   "cell_type": "markdown",
   "metadata": {},
   "source": [
    "In what follows, we try to distinguish genes' expression based on cell condition (hypoxia vs normoxia) to understand if any given gene predominantly appears for one condition and thus acts as a good discriminant that should be used for our supervised analysis. To do so, we consider only the genes which are not sparse, according to 2nd defintion and extract the labels from the sample names."
   ]
  },
  {
   "cell_type": "code",
   "execution_count": null,
   "metadata": {},
   "outputs": [],
   "source": [
    "sample_names = df_MCF7_unfiltered.T.columns\n",
    "cell_type = []\n",
    "for name in sample_names:\n",
    "    if \"Norm\" in name:\n",
    "        cell_type.append(\"Norm\")\n",
    "    elif \"Hypo\" in name:\n",
    "        cell_type.append(\"Hypo\")\n",
    "df_MCF7_unfiltered[\"CellType\"] = cell_type\n",
    "\n",
    "sample_names = df_HCC_unfiltered.T.columns\n",
    "cell_type = []\n",
    "for name in sample_names:\n",
    "    if \"Norm\" in name:\n",
    "        cell_type.append(\"Norm\")\n",
    "    elif \"Hypo\" in name:\n",
    "        cell_type.append(\"Hypo\")\n",
    "df_HCC_unfiltered[\"CellType\"] = cell_type\n",
    "\n",
    "print(\"MCF7 dataset\")\n",
    "print(f\"Checking for unbalanced classes \\nNormoxia: {(df_MCF7_unfiltered[\"CellType\"]==\"Norm\").sum()/ len(df_MCF7_unfiltered[\"CellType\"]):.5}%, \\t Hypoxia: {1-(df_MCF7_unfiltered[\"CellType\"]==\"Norm\").sum()/ len(df_MCF7_unfiltered[\"CellType\"]):.5}%\")\n",
    "print(f\"Differnece in absolute count of samples with Normoxia vs (-) Hypoxia: {(df_MCF7_unfiltered[\"CellType\"]==\"Norm\").sum() - (df_MCF7_unfiltered[\"CellType\"]==\"Hypo\").sum()}\")\n",
    "print(\"the classes are almost perfectly balanced \\n\")\n",
    "\n",
    "# Separate the features from the label\n",
    "feature_columns_1 = df_MCF7_unfiltered.columns.difference([\"CellType\"])\n",
    "# Group by the label and sum each group\n",
    "grouped_sums_1 = df_MCF7_unfiltered.groupby(\"CellType\")[feature_columns_1].sum() \n",
    "print(grouped_sums_1.head())\n",
    "\n",
    "print(\"\\nHCC dataset\")\n",
    "print(f\"Checking for unbalanced classes \\nNormoxia: {(df_HCC_unfiltered[\"CellType\"]==\"Norm\").sum()/ len(df_HCC_unfiltered[\"CellType\"]):.5}%, \\t Hypoxia: {1-(df_HCC_unfiltered[\"CellType\"]==\"Norm\").sum()/ len(df_HCC_unfiltered[\"CellType\"]):.5}%\")\n",
    "print(f\"Differnece in absolute count of samples with Normoxia vs (-) Hypoxia: {(df_HCC_unfiltered[\"CellType\"]==\"Norm\").sum() - (df_HCC_unfiltered[\"CellType\"]==\"Hypo\").sum()}\")\n",
    "print(\"the classes are almost perfectly balanced \\n\")\n",
    "\n",
    "# Separate the features from the label\n",
    "feature_columns_2 = df_HCC_unfiltered.columns.difference([\"CellType\"])\n",
    "# Group by the label and sum each group\n",
    "grouped_sums_2 = df_HCC_unfiltered.groupby(\"CellType\")[feature_columns_2].sum() \n",
    "grouped_sums_2.head()"
   ]
  },
  {
   "cell_type": "code",
   "execution_count": null,
   "metadata": {},
   "outputs": [],
   "source": [
    "top_n = 20\n",
    "\n",
    "# Create subplots with 2 rows and 1 column\n",
    "fig, axes = plt.subplots(2, 1, figsize=(14, 10))\n",
    "\n",
    "# MCF7 dataset\n",
    "total_sums_1 = grouped_sums_1.sum(axis=0)\n",
    "\n",
    "# Sort columns by total sum and pick top N\n",
    "top_columns_1 = total_sums_1.sort_values(ascending=False).head(top_n).index\n",
    "top_data_1 = grouped_sums_1[top_columns_1]\n",
    "\n",
    "# First subplot: MCF7 dataset\n",
    "top_data_1.T.plot(kind='bar', stacked=True, ax=axes[0])\n",
    "axes[0].set_title(\"Genes' Expression by Cell Condition - MCF7 Dataset\", fontsize=18)\n",
    "axes[0].set_xlabel('Genes')\n",
    "axes[0].set_ylabel('Total Counts')\n",
    "axes[0].legend(title='Cell Condition')\n",
    "axes[0].grid(axis='y', linestyle='--', alpha=0.5)\n",
    "\n",
    "# HCC dataset\n",
    "total_sums_2 = grouped_sums_2.sum(axis=0)\n",
    "\n",
    "# Sort columns by total sum and pick top N\n",
    "top_columns_2 = total_sums_2.sort_values(ascending=False).head(top_n).index\n",
    "top_data_2 = grouped_sums_2[top_columns_2]\n",
    "\n",
    "# Second subplot: HCC dataset\n",
    "top_data_2.T.plot(kind='bar', stacked=True, ax=axes[1])\n",
    "axes[1].set_title(\"Genes' Expression by Cell Condition - HCC Dataset\", fontsize=18)\n",
    "axes[1].set_xlabel('Genes')\n",
    "axes[1].set_ylabel('Total Counts')\n",
    "axes[1].legend(title='Cell Condition')\n",
    "axes[1].grid(axis='y', linestyle='--', alpha=0.5)\n",
    "\n",
    "# Final layout adjustment\n",
    "plt.tight_layout()\n",
    "plt.show()"
   ]
  },
  {
   "cell_type": "markdown",
   "metadata": {},
   "source": [
    "Similarly, in the following graph, we see how a given gene for a particular condition, either hypoxia or normoxia, is expressed wtih different counts across the two cell lines of MCF7 and HCC1806."
   ]
  },
  {
   "cell_type": "code",
   "execution_count": null,
   "metadata": {},
   "outputs": [],
   "source": [
    "# 2. Get top genes from dataset 1\n",
    "total_sums = grouped_sums_1.sum(axis=0)\n",
    "top_genes = total_sums.sort_values(ascending=False).head(top_n).index\n",
    "\n",
    "# 3. Subset both datasets\n",
    "df1_top = grouped_sums_1[top_genes].copy()\n",
    "df2_top = grouped_sums_2[top_genes].copy()\n",
    "\n",
    "# 4. Add 'Condition' column before melting\n",
    "df1_top['Condition'] = df1_top.index\n",
    "df2_top['Condition'] = df2_top.index\n",
    "\n",
    "# 5. Melt both to long format\n",
    "df1_long = df1_top.melt(id_vars='Condition', var_name='Gene', value_name='Count')\n",
    "df1_long['Dataset'] = 'MCF7 Dataset'\n",
    "df2_long = df2_top.melt(id_vars='Condition', var_name='Gene', value_name='Count')\n",
    "df2_long['Dataset'] = 'HCC Dataset'\n",
    "\n",
    "# 6. Combine both\n",
    "combined_long = pd.concat([df1_long, df2_long], ignore_index=True)\n",
    "\n",
    "# 7. Create composite category: Gene + Condition\n",
    "combined_long['Gene_Condition'] = combined_long['Gene'] + ' (' + combined_long['Condition'] + ')'\n",
    "\n",
    "# 8. Plot side-by-side bars\n",
    "plt.figure(figsize=(16, 6))\n",
    "sns.barplot(\n",
    "    data=combined_long,\n",
    "    x='Gene_Condition',\n",
    "    y='Count',\n",
    "    hue='Dataset',\n",
    "    palette=['blue', 'red']\n",
    ")\n",
    "\n",
    "# 9. Styling\n",
    "plt.title(\"Gene Expression by Condition — HCC Dataset vs MCF7 Dataset\", fontsize=16)\n",
    "plt.xlabel(\"Gene (Condition)\", fontsize=12)\n",
    "plt.ylabel(\"Total Counts\", fontsize=12)\n",
    "plt.xticks(rotation=45, ha='right')\n",
    "plt.legend(title='Dataset')\n",
    "plt.grid(axis='y', linestyle='--', alpha=0.5)\n",
    "plt.tight_layout()\n",
    "plt.show()"
   ]
  },
  {
   "cell_type": "code",
   "execution_count": null,
   "metadata": {},
   "outputs": [],
   "source": [
    "df_HCC_unfiltered.drop(columns=\"CellType\", inplace=True)\n",
    "df_MCF7_unfiltered.drop(columns=\"CellType\", inplace=True)"
   ]
  },
  {
   "cell_type": "markdown",
   "metadata": {},
   "source": [
    "This suggests that some genes are more important than others to identify hypoxic cells since some are linked to a particular condition. This means that feature selection and dimensionality reduction might be very helpful to remove genes produced for both hypoxic and normal cells, which don't add any information on whether a sample belongs to one class or the other."
   ]
  },
  {
   "cell_type": "markdown",
   "metadata": {},
   "source": [
    "## Evaluating correlation of samples and genes "
   ]
  },
  {
   "cell_type": "code",
   "execution_count": null,
   "metadata": {},
   "outputs": [],
   "source": [
    "n_genes = 50\n",
    "top_genes_1 = df_MCF7_unfiltered.iloc[:, :-2].sum().sort_values(ascending=False).head(n_genes).index\n",
    "sampled_cells_1 = df_MCF7_unfiltered.sample(25)\n",
    "truncated_rows_1 = [i[12:27] for i in sampled_cells_1.index.tolist()]\n",
    "\n",
    "top_genes_2 = df_HCC_unfiltered.iloc[:, :-2].sum().sort_values(ascending=False).head(n_genes).index\n",
    "sampled_cells_2 = df_HCC_unfiltered.sample(25)\n",
    "truncated_rows_2 = [i[12:38] for i in sampled_cells_2.index.tolist()]"
   ]
  },
  {
   "cell_type": "code",
   "execution_count": null,
   "metadata": {},
   "outputs": [],
   "source": [
    "# Plotting\n",
    "fig, axes = plt.subplots(2, 1, figsize=(14, 12))\n",
    "\n",
    "# Heatmap for Dataset 1 (MCF7)\n",
    "sns.heatmap(sampled_cells_1[top_genes_1].corr(), ax=axes[0], cbar=True, cmap=\"coolwarm\")\n",
    "axes[0].set_title('Gene correlation matrix: Top 20 Genes in Sampled Cells - MCF7 Dataset')\n",
    "axes[0].set_xlabel(\"Genes\")\n",
    "axes[0].set_ylabel(\"Genes\")\n",
    "\n",
    "# Heatmap for Dataset 2 (HCC)\n",
    "sns.heatmap(sampled_cells_2[top_genes_2].corr(), ax=axes[1], cbar=True, cmap=\"coolwarm\")\n",
    "axes[1].set_title('Gene correlation matrix: Top 20 Genes in Sampled Cells - HCC Dataset')\n",
    "axes[1].set_xlabel(\"Genes\")\n",
    "axes[1].set_ylabel(\"Genes\")\n",
    "\n",
    "plt.tight_layout()\n",
    "plt.show()"
   ]
  },
  {
   "cell_type": "code",
   "execution_count": null,
   "metadata": {},
   "outputs": [],
   "source": [
    "# Scale and compute distances for MCF7                                           \n",
    "scaler = StandardScaler()\n",
    "df_scaled_1 = scaler.fit_transform(df_MCF7_unfiltered[top_genes_1].T)\n",
    "distance_matrix_1 = pdist(df_scaled_1, metric='correlation')\n",
    "distance_square_1 = squareform(distance_matrix_1)\n",
    "\n",
    "# Scale and compute distances for HCC\n",
    "df_scaled_2 = scaler.fit_transform(df_HCC_unfiltered[top_genes_2].T)\n",
    "distance_matrix_2 = pdist(df_scaled_2, metric='correlation')\n",
    "distance_square_2 = squareform(distance_matrix_2)\n",
    "\n",
    "# Create two clustermaps separately\n",
    "g1 = sns.clustermap(distance_square_1, cmap='coolwarm', xticklabels=top_genes_1, yticklabels=top_genes_1)\n",
    "g1.cax.set_position([.99, .08, .03, .74])\n",
    "g2 = sns.clustermap(distance_square_2, cmap='coolwarm', xticklabels=top_genes_2, yticklabels=top_genes_2)\n",
    "g2.cax.set_position([.99, .08, .03, .74])\n",
    "\n",
    "# Optional: improve layout\n",
    "g1.fig.suptitle('Gene Correlation Matrix - MCF7 Dataset (Top 20 Genes)', y=1.05, fontsize=16)\n",
    "g2.fig.suptitle('Gene Correlation Matrix - HCC Dataset (Top 20 Genes)', y=1.05, fontsize=16)\n",
    "\n",
    "plt.show()"
   ]
  },
  {
   "cell_type": "code",
   "execution_count": null,
   "metadata": {},
   "outputs": [],
   "source": [
    "# Sample 100 cells\n",
    "sampled_cells_1 = df_MCF7_unfiltered.sample(100)\n",
    "sampled_cells_2 = df_HCC_unfiltered.sample(100)\n",
    "\n",
    "# Select top 20 genes by total expression\n",
    "top_genes_1 = df_MCF7_unfiltered.iloc[:, :-2].sum().sort_values(ascending=False).head(20).index\n",
    "top_genes_2 = df_HCC_unfiltered.iloc[:, :-2].sum().sort_values(ascending=False).head(20).index\n",
    "\n",
    "# Extract expression data for top genes\n",
    "sampled_data_1 = sampled_cells_1[top_genes_1]\n",
    "sampled_data_2 = sampled_cells_2[top_genes_2]\n",
    "\n",
    "# Compute sample-to-sample correlation\n",
    "sample_corr_1 = sampled_data_1.corr(method='pearson') if sampled_data_1.shape[0] < sampled_data_1.shape[1] else sampled_data_1.T.corr()\n",
    "sample_corr_2 = sampled_data_2.corr(method='pearson') if sampled_data_2.shape[0] < sampled_data_2.shape[1] else sampled_data_2.T.corr()\n",
    "\n",
    "# Truncate sample names\n",
    "truncated_names_1 = [idx[12:27] for idx in sample_corr_1.index]\n",
    "truncated_names_2 = [idx[12:38] for idx in sample_corr_2.index]\n",
    "\n",
    "# Apply truncated names to both axes\n",
    "sample_corr_1.index = truncated_names_1\n",
    "sample_corr_1.columns = truncated_names_1\n",
    "sample_corr_2.index = truncated_names_2\n",
    "sample_corr_2.columns = truncated_names_2\n",
    "\n",
    "# Plotting\n",
    "fig, axes = plt.subplots(2, 1, figsize=(14, 14))\n",
    "\n",
    "# MCF7 correlation heatmap\n",
    "sns.heatmap(sample_corr_1, ax=axes[0], cmap=\"coolwarm\", cbar=True)\n",
    "axes[0].set_title(\"Sample Correlation Heatmap - MCF7 (Top 20 Genes)\")\n",
    "axes[0].set_xlabel(\"Samples\")\n",
    "axes[0].set_ylabel(\"Samples\")\n",
    "\n",
    "# HCC correlation heatmap\n",
    "sns.heatmap(sample_corr_2, ax=axes[1], cmap=\"coolwarm\", cbar=True)\n",
    "axes[1].set_title(\"Sample Correlation Heatmap - HCC (Top 20 Genes)\")\n",
    "axes[1].set_xlabel(\"Samples\")\n",
    "axes[1].set_ylabel(\"Samples\")\n",
    "\n",
    "plt.tight_layout()\n",
    "plt.show()"
   ]
  },
  {
   "cell_type": "markdown",
   "metadata": {},
   "source": [
    "Samples are not really independent, as can be seen from bright heatmap colour and also genes show some dependence between each other, thus showing how effectively dimensionality could be easily reduced with PCA or other techniques without substantial loss of information"
   ]
  }
 ],
 "metadata": {
  "kernelspec": {
   "display_name": "Python 3",
   "language": "python",
   "name": "python3"
  },
  "language_info": {
   "codemirror_mode": {
    "name": "ipython",
    "version": 3
   },
   "file_extension": ".py",
   "mimetype": "text/x-python",
   "name": "python",
   "nbconvert_exporter": "python",
   "pygments_lexer": "ipython3",
   "version": "3.13.1"
  }
 },
 "nbformat": 4,
 "nbformat_minor": 2
}
